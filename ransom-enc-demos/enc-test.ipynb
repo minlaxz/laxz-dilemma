{
 "cells": [
  {
   "cell_type": "code",
   "execution_count": 1,
   "metadata": {},
   "outputs": [],
   "source": [
    "import base64\n",
    "import hashlib\n",
    "from Crypto.Cipher import AES\n",
    "from Crypto import Random\n",
    "import os"
   ]
  },
  {
   "cell_type": "code",
   "execution_count": 2,
   "metadata": {},
   "outputs": [],
   "source": [
    "def pad(s):\n",
    "    block_size = 16\n",
    "    remainder = len(s) % block_size\n",
    "    padding_needed = block_size - remainder\n",
    "    return s + padding_needed * ' '\n",
    "\n",
    "# remove the extra spaces at the end\n",
    "def unpad(s): \n",
    "    return s.rstrip()\n",
    " \n",
    "def encrypt(plain_text, password):\n",
    "    # generate a random salt\n",
    "    salt = os.urandom(AES.block_size)\n",
    "\n",
    "    # generate a random iv\n",
    "    iv = Random.new().read(AES.block_size)\n",
    "\n",
    "    # use the Scrypt KDF to get a private key from the password\n",
    "    private_key = hashlib.scrypt(password.encode(), salt=salt, n=2**14, r=8, p=1, dklen=32)\n",
    "\n",
    "    # pad text with spaces to be valid for AES CBC mode\n",
    "    padded_text = pad(plain_text)\n",
    "    \n",
    "    # create cipher config\n",
    "    cipher_config = AES.new(private_key, AES.MODE_CBC, iv)\n",
    "\n",
    "    # return a dictionary with the encrypted text\n",
    "    return {\n",
    "        'cipher_text': base64.b64encode(cipher_config.encrypt(padded_text)),\n",
    "        'salt': base64.b64encode(salt),\n",
    "        'iv': base64.b64encode(iv)\n",
    "    }"
   ]
  },
  {
   "cell_type": "code",
   "execution_count": 5,
   "metadata": {},
   "outputs": [
    {
     "name": "stdout",
     "output_type": "stream",
     "text": [
      "{'cipher_text': b'Mrc5rHwzvHQPaiBJymqFEQ==', 'salt': b'wKb/XCRzyrMs+ldvSD2SCA==', 'iv': b'6PSvdxAxy7bMSjiHYYqnpA=='}\n"
     ]
    }
   ],
   "source": [
    "print(encrypt('pass','123'))"
   ]
  },
  {
   "cell_type": "code",
   "execution_count": 10,
   "metadata": {},
   "outputs": [],
   "source": [
    "def decrypt(enc_dict, password):\n",
    "    # decode the dictionary entries from base64\n",
    "    salt = base64.b64decode(enc_dict['salt'])\n",
    "    enc = base64.b64decode(enc_dict['cipher_text'])\n",
    "    iv = base64.b64decode(enc_dict['iv'])\n",
    "\n",
    "    # generate the private key from the password and salt\n",
    "    private_key = hashlib.scrypt(password.encode(), salt=salt, n=2**14, r=8, p=1, dklen=32)\n",
    "\n",
    "    # create the cipher config\n",
    "    cipher = AES.new(private_key, AES.MODE_CBC, iv)\n",
    "\n",
    "    # decrypt the cipher text\n",
    "    decrypted = cipher.decrypt(enc)\n",
    "\n",
    "    # unpad the text to remove the added spaces\n",
    "    original = unpad(decrypted)\n",
    "\n",
    "    return original\n",
    "\n",
    "def main():\n",
    "    password = input(\"Password: \")\n",
    "    \n",
    "    # First let us encrypt secret message\n",
    "    encrypted = encrypt(\"hii\", password)\n",
    "    print(encrypted)\n",
    "    \n",
    "    # Let us decrypt using our original password\n",
    "    decrypted = decrypt(encrypted, password)\n",
    "    print(bytes.decode(decrypted))"
   ]
  },
  {
   "cell_type": "code",
   "execution_count": 11,
   "metadata": {},
   "outputs": [
    {
     "name": "stdin",
     "output_type": "stream",
     "text": [
      "Password:  ll\n"
     ]
    },
    {
     "name": "stdout",
     "output_type": "stream",
     "text": [
      "{'cipher_text': b'EVBEOoFT5EKhIkxvB4d/ag==', 'salt': b'SW62YFm07e0ynTZ5QoD59w==', 'iv': b'XJnTNTASw9DhVa+ekS8Eig=='}\n",
      "hii\n"
     ]
    }
   ],
   "source": [
    "main()"
   ]
  },
  {
   "cell_type": "raw",
   "metadata": {},
   "source": [
    "Password:  ll\n",
    "{'cipher_text': b'bP5cm8YMOeGio4gT1fEeIQ==', 'salt': b'oX261XdZ6EuJRUNgqXMT3A==', 'iv': b'rQ9mlf004t8hCPAcfamaQw=='}\n",
    "hi"
   ]
  },
  {
   "cell_type": "code",
   "execution_count": 12,
   "metadata": {},
   "outputs": [],
   "source": [
    "s = b'bP5cm8YMOeGio4gT1fEeIQ=='"
   ]
  },
  {
   "cell_type": "code",
   "execution_count": 13,
   "metadata": {},
   "outputs": [
    {
     "data": {
      "text/plain": [
       "bytes"
      ]
     },
     "execution_count": 13,
     "metadata": {},
     "output_type": "execute_result"
    }
   ],
   "source": [
    "type(s)"
   ]
  },
  {
   "cell_type": "code",
   "execution_count": 14,
   "metadata": {},
   "outputs": [
    {
     "name": "stdout",
     "output_type": "stream",
     "text": [
      "b'bP5cm8YMOeGio4gT1fEeIQ=='\n"
     ]
    }
   ],
   "source": [
    "print(s)"
   ]
  },
  {
   "cell_type": "code",
   "execution_count": 16,
   "metadata": {},
   "outputs": [
    {
     "data": {
      "text/plain": [
       "24"
      ]
     },
     "execution_count": 16,
     "metadata": {},
     "output_type": "execute_result"
    }
   ],
   "source": [
    "len(s.decode('utf-8'))"
   ]
  },
  {
   "cell_type": "code",
   "execution_count": 4,
   "metadata": {},
   "outputs": [],
   "source": [
    "import os"
   ]
  },
  {
   "cell_type": "code",
   "execution_count": 12,
   "metadata": {},
   "outputs": [],
   "source": [
    "res = os.popen('echo \"hi\" | openssl enc -e -aes-256-cbc -a -salt -pbkdf2 -pass pass:\\'123\\'')"
   ]
  },
  {
   "cell_type": "code",
   "execution_count": 13,
   "metadata": {},
   "outputs": [
    {
     "data": {
      "text/plain": [
       "os._wrap_close"
      ]
     },
     "execution_count": 13,
     "metadata": {},
     "output_type": "execute_result"
    }
   ],
   "source": [
    "type(res)"
   ]
  },
  {
   "cell_type": "code",
   "execution_count": 14,
   "metadata": {},
   "outputs": [
    {
     "data": {
      "text/plain": [
       "<os._wrap_close at 0x7f2a008ff390>"
      ]
     },
     "execution_count": 14,
     "metadata": {},
     "output_type": "execute_result"
    }
   ],
   "source": [
    "res"
   ]
  },
  {
   "cell_type": "code",
   "execution_count": 15,
   "metadata": {},
   "outputs": [
    {
     "data": {
      "text/plain": [
       "'U2FsdGVkX18RkNMZwzFeYOTk9ND+qRkz1lTPYahaPIs='"
      ]
     },
     "execution_count": 15,
     "metadata": {},
     "output_type": "execute_result"
    }
   ],
   "source": [
    "res.read().strip()"
   ]
  },
  {
   "cell_type": "code",
   "execution_count": 5,
   "metadata": {},
   "outputs": [],
   "source": [
    "def encryptThis(text, password):\n",
    "    res = os.popen('echo \"{0}\" | openssl enc -e -aes-256-cbc -a -salt -pbkdf2 -pass pass:{1}'.format(text,password))\n",
    "    return res"
   ]
  },
  {
   "cell_type": "code",
   "execution_count": 6,
   "metadata": {},
   "outputs": [
    {
     "data": {
      "text/plain": [
       "'U2FsdGVkX1/ica2eVb3IwSqiPsFH2zxJNWO43INCVZ0=\\n'"
      ]
     },
     "execution_count": 6,
     "metadata": {},
     "output_type": "execute_result"
    }
   ],
   "source": [
    "encryptThis('hi', '123').read()"
   ]
  },
  {
   "cell_type": "code",
   "execution_count": 7,
   "metadata": {},
   "outputs": [],
   "source": [
    "def decryptThis(text,password):\n",
    "    res = os.popen('echo \"{0}\" | openssl enc -e -aes-256-cbc -a -d -salt -pbkdf2 -pass pass:{1}'.format(text,password))\n",
    "    return res"
   ]
  },
  {
   "cell_type": "code",
   "execution_count": 8,
   "metadata": {},
   "outputs": [
    {
     "data": {
      "text/plain": [
       "'hi\\n'"
      ]
     },
     "execution_count": 8,
     "metadata": {},
     "output_type": "execute_result"
    }
   ],
   "source": [
    "decryptThis('U2FsdGVkX1/Wm+v7NTwxGSBRDdI9/VnFtAlQXKIiFtg=','123').read()"
   ]
  },
  {
   "cell_type": "code",
   "execution_count": null,
   "metadata": {},
   "outputs": [],
   "source": []
  }
 ],
 "metadata": {
  "kernelspec": {
   "display_name": "Python 3",
   "language": "python",
   "name": "python3"
  },
  "language_info": {
   "codemirror_mode": {
    "name": "ipython",
    "version": 3
   },
   "file_extension": ".py",
   "mimetype": "text/x-python",
   "name": "python",
   "nbconvert_exporter": "python",
   "pygments_lexer": "ipython3",
   "version": "3.6.10"
  }
 },
 "nbformat": 4,
 "nbformat_minor": 4
}
